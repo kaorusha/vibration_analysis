{
  "cells": [
    {
      "cell_type": "markdown",
      "metadata": {},
      "source": [
        ">This node book is modified from https://github.com/andy6804tw/crazyai-ml"
      ]
    },
    {
      "cell_type": "code",
      "execution_count": null,
      "metadata": {
        "id": "_wiF0zJkSgAM"
      },
      "outputs": [],
      "source": [
        "import pandas as pd\n",
        "import numpy as np\n",
        "import matplotlib.pyplot as plt\n",
        "import seaborn as sns\n",
        "import signal_processing"
      ]
    },
    {
      "cell_type": "markdown",
      "metadata": {
        "id": "dDIdhqeuSgAQ"
      },
      "source": [
        "## 1) 載入資料集\n",
        "### 1.1) psd spectrum (averaged over windows)"
      ]
    },
    {
      "cell_type": "code",
      "execution_count": null,
      "metadata": {
        "colab": {
          "base_uri": "https://localhost:8080/",
          "height": 424
        },
        "id": "loIQUmCaSgAS",
        "outputId": "54333741-317a-4a29-f6e6-9199c6d41566"
      },
      "outputs": [],
      "source": [
        "X = signal_processing.read_sheets('psd.xlsx', usecols=[0,1,2,3], combine=True)\n",
        "X = X.transpose()\n",
        "y = np.array([signal_processing.class_label(sample.split(' ')[-1].split('_')[0]) for sample in X.index])"
      ]
    },
    {
      "cell_type": "markdown",
      "metadata": {},
      "source": [
        "### 1.2) psd spectrum (unaveraged) from excel workbook"
      ]
    },
    {
      "cell_type": "code",
      "execution_count": null,
      "metadata": {},
      "outputs": [],
      "source": [
        "df = signal_processing.read_sheets('psd_window.xlsx', combine=True, axis=0)\n",
        "print(df.head())\n",
        "print(df.info())"
      ]
    },
    {
      "cell_type": "code",
      "execution_count": null,
      "metadata": {},
      "outputs": [],
      "source": [
        "# add columns to describe the sensor channel and the sample_num\n",
        "df['channel'] = [name[7:] for name in df['name']]\n",
        "df['sample_num'] = [name[:6] for name in df['name']]\n",
        "print(df.head())"
      ]
    },
    {
      "cell_type": "code",
      "execution_count": null,
      "metadata": {},
      "outputs": [],
      "source": [
        "# select a particular channel and shuffle\n",
        "X = df.loc[df['channel'] == 'ud_axial'].sample(frac = 1).reset_index(drop=True)\n",
        "y = np.array([signal_processing.class_label(sample_num) for sample_num in X['sample_num']])"
      ]
    },
    {
      "cell_type": "markdown",
      "metadata": {},
      "source": [
        "### 1.3) pse spectrum (unaveraged) from parquet file"
      ]
    },
    {
      "cell_type": "code",
      "execution_count": null,
      "metadata": {},
      "outputs": [],
      "source": [
        "# select a particular channel and shuffle\n",
        "X = signal_processing.read_parquet_keyword('ud_up', \n",
        "                                           dir = '../../test_data//20250305_good_samples//', \n",
        "                                           parse_func=signal_processing.parse_digital).sample(frac=1).reset_index(drop=True)\n",
        "y = np.array([signal_processing.class_label(sample_num) for sample_num in X['sample_num']])"
      ]
    },
    {
      "cell_type": "markdown",
      "metadata": {
        "id": "Ec1q-45XSgAT"
      },
      "source": [
        "## 2) 切割訓練集與測試集\n",
        "### 2.1) option 1: use all sample data for train/test"
      ]
    },
    {
      "cell_type": "code",
      "execution_count": null,
      "metadata": {},
      "outputs": [],
      "source": [
        "# drop unused column\n",
        "X = X.iloc[:, :513]\n",
        "X.reset_index(drop=True, inplace=True)\n",
        "print(X)\n",
        "print(y.shape)\n",
        "\n",
        "from sklearn.model_selection import train_test_split\n",
        "X_train, X_test, y_train, y_test = train_test_split(X, y, test_size=0.3, random_state=42, stratify=y)\n",
        "\n",
        "print('train shape:', X_train.shape)\n",
        "print('test shape:', X_test.shape)"
      ]
    },
    {
      "cell_type": "markdown",
      "metadata": {},
      "source": [
        "### 2.2) option 2: use partial sample data for train and another partial sample for test\n",
        "\n",
        "#### 2.2.1) Simplify 3 categories from (0,1,2) to (0,1) for better result"
      ]
    },
    {
      "cell_type": "code",
      "execution_count": null,
      "metadata": {},
      "outputs": [],
      "source": [
        "def label_transfer(sample_num: str):\n",
        "    '''\n",
        "    transfer sample number to label 0 and 1\n",
        "    '''\n",
        "    return 0 if signal_processing.class_label(sample_num) == 0 else 1"
      ]
    },
    {
      "cell_type": "markdown",
      "metadata": {},
      "source": [
        "#### 2.2.2) Separate train/test samples to avoid data leakage\n",
        "* optional1: select a proportion of sample_num to be test sample, so the train and test sets are different in part number"
      ]
    },
    {
      "cell_type": "code",
      "execution_count": null,
      "metadata": {},
      "outputs": [],
      "source": [
        "all_sample = X.value_counts(subset='sample_num')\n",
        "test_size = 0.3\n",
        "test_sample = all_sample.sample(n=int(all_sample.shape[0]*test_size))\n",
        "print('test sample number:', test_sample.index.to_list())\n",
        "print('test_sample type:', [label_transfer(sample_num) for sample_num in test_sample.index])"
      ]
    },
    {
      "cell_type": "markdown",
      "metadata": {},
      "source": [
        "* optional2: specify 'test_sample' as control variables"
      ]
    },
    {
      "cell_type": "code",
      "execution_count": null,
      "metadata": {},
      "outputs": [],
      "source": [
        "test_sample = ['004073', '000048', '000053', '003735', '000027', '000785']\n",
        "print('test sample number:', test_sample)\n",
        "print('test_sample type:', [label_transfer(sample_num) for sample_num in test_sample])"
      ]
    },
    {
      "cell_type": "code",
      "execution_count": null,
      "metadata": {},
      "outputs": [],
      "source": [
        "\n",
        "# separate train and test set\n",
        "X_train = X.loc[[x not in test_sample for x in X['sample_num']]]\n",
        "X_test = X.loc[[x in test_sample for x in X['sample_num']]]\n",
        "\n",
        "y_train = np.array([label_transfer(sample_num) for sample_num in X_train['sample_num']])\n",
        "y_test = np.array([label_transfer(sample_num) for sample_num in X_test['sample_num']])"
      ]
    },
    {
      "cell_type": "markdown",
      "metadata": {},
      "source": [
        "#### 2.2.3) drop unused column"
      ]
    },
    {
      "cell_type": "code",
      "execution_count": null,
      "metadata": {},
      "outputs": [],
      "source": [
        "col = 513\n",
        "X_train = X_train.iloc[:, :col]\n",
        "X_test = X_test.iloc[:, :col]\n",
        "X_train.reset_index(drop=True, inplace=True)\n",
        "X_test.reset_index(drop=True, inplace=True)\n",
        "print('train shape:', X_train.shape)\n",
        "print('test shape:', X_test.shape)"
      ]
    },
    {
      "cell_type": "markdown",
      "metadata": {
        "id": "qlklFPAKSgAU"
      },
      "source": [
        "## Auto-sklearn\n",
        "首先我們來測試第一版的 Auto-sklearn。以下是模型常用的超參數以及方法，詳細內容可以參考官方 API [文件](https://automl.github.io/auto-sklearn/master/api.html)。\n",
        "\n",
        "Parameters:\n",
        "- time_left_for_this_task: 搜尋時間(秒)，預設3600秒(6分鐘)。\n",
        "- per_run_time_limit: 每個模型訓練的上限時間，預設為time_left_for_this_task的1/10。\n",
        "- ensemble_size: 模型輸出數量，預設50。\n",
        "- resampling_strategy: 資料採樣方式。為了避免過擬合，可以採用交叉驗證機制。預設方法為最基本的 holdout。\n",
        "\n",
        "Attributes:\n",
        "- cv_results_: 查詢模型搜尋結果以及每個最佳模型的超參數。\n",
        "\n",
        "Methods:\n",
        "- fit: 放入X、y進行模型擬合。\n",
        "- refit: 使用 fit 尋找好的參數後，再使用所有的資料進行最後微調。\n",
        "- predict: 預測並回傳預測類別。\n",
        "- score: 預測成功的比例。\n",
        "- predict_proba: 預測每個類別的機率值。\n",
        "- leaderboard: 顯示 k 個 ensemble 模型並排名。"
      ]
    },
    {
      "cell_type": "code",
      "execution_count": null,
      "metadata": {
        "colab": {
          "base_uri": "https://localhost:8080/"
        },
        "id": "zTqDZHAHYHV5",
        "outputId": "742f4a0f-efbd-4a65-f7d8-6c3bce4390d6"
      },
      "outputs": [],
      "source": [
        "import autosklearn.classification\n",
        "automlclassifierV1 = autosklearn.classification.AutoSklearnClassifier(\n",
        "    time_left_for_this_task=600,\n",
        "    per_run_time_limit=200,\n",
        "    resampling_strategy='cv',\n",
        "    resampling_strategy_arguments={'folds': 5}\n",
        ")\n",
        "automlclassifierV1.fit(X_train, y_train)"
      ]
    },
    {
      "cell_type": "code",
      "execution_count": null,
      "metadata": {
        "colab": {
          "base_uri": "https://localhost:8080/"
        },
        "id": "3byVaAVRZL1j",
        "outputId": "796128aa-4606-4a2b-c361-24579d12d4b9"
      },
      "outputs": [],
      "source": [
        "# 預測成功的比例\n",
        "print('automlclassifierV1 訓練集: ',automlclassifierV1.score(X_train,y_train))\n",
        "print('automlclassifierV1 測試集: ',automlclassifierV1.score(X_test,y_test))"
      ]
    },
    {
      "cell_type": "code",
      "execution_count": null,
      "metadata": {
        "colab": {
          "base_uri": "https://localhost:8080/",
          "height": 1000
        },
        "id": "kmzrlWrIguMr",
        "outputId": "2621c6ab-fa16-43f0-e776-a220fc2c159a"
      },
      "outputs": [],
      "source": [
        "# 查看模型參數\n",
        "df_cv_results = pd.DataFrame(automlclassifierV1.cv_results_).sort_values(by = 'mean_test_score', ascending = False)\n",
        "df_cv_results"
      ]
    },
    {
      "cell_type": "code",
      "execution_count": null,
      "metadata": {
        "colab": {
          "base_uri": "https://localhost:8080/",
          "height": 728
        },
        "id": "POoJ1OqZhudZ",
        "outputId": "cfb95878-fa39-40ff-bda1-cd7fe47e3ba1"
      },
      "outputs": [],
      "source": [
        "# 模型聚合結果\n",
        "automlclassifierV1.leaderboard(detailed = True, ensemble_only=True)"
      ]
    },
    {
      "cell_type": "markdown",
      "metadata": {
        "id": "fm01Nqagqut2"
      },
      "source": [
        "### 使用 Auto-sklearn 2.0"
      ]
    },
    {
      "cell_type": "code",
      "execution_count": null,
      "metadata": {
        "colab": {
          "base_uri": "https://localhost:8080/"
        },
        "id": "qFBuOfqySgAU",
        "outputId": "c23f9508-ecac-4325-c012-9f45ff4e39f6"
      },
      "outputs": [],
      "source": [
        "from autosklearn.experimental.askl2 import AutoSklearn2Classifier\n",
        "\n",
        "automlclassifierV2 = AutoSklearn2Classifier(time_left_for_this_task=600, per_run_time_limit=200)\n",
        "automlclassifierV2.fit(X_train, y_train)"
      ]
    },
    {
      "cell_type": "code",
      "execution_count": null,
      "metadata": {
        "colab": {
          "base_uri": "https://localhost:8080/"
        },
        "id": "L-Zx6L2GSgAW",
        "outputId": "8ccac1d8-5ca4-45ca-8a5b-d9a11c3e95e9"
      },
      "outputs": [],
      "source": [
        "# 預測成功的比例\n",
        "print('automlclassifierV2 訓練集: ',automlclassifierV2.score(X_train,y_train))\n",
        "print('automlclassifierV2 測試集: ',automlclassifierV2.score(X_test,y_test))"
      ]
    },
    {
      "cell_type": "markdown",
      "metadata": {
        "id": "oUfjcWeoSgAX"
      },
      "source": [
        "## 真實分類"
      ]
    },
    {
      "cell_type": "code",
      "execution_count": null,
      "metadata": {
        "id": "KYM4YLWASgAY"
      },
      "outputs": [],
      "source": [
        "# 建立測試集的 DataFrame\n",
        "columns = []\n",
        "for i in X_test.columns:\n",
        "    columns.append(str(i))\n",
        "df_test=pd.DataFrame(X_test.to_numpy(), columns=columns, index=X_test.index)\n",
        "df_test['Type'] = y_test\n",
        "pred = automlclassifierV2.predict(X_test)\n",
        "df_test['Predict'] = pred\n",
        "#df_test.to_excel('prediction_window.xlsx') # for further analysis"
      ]
    },
    {
      "cell_type": "code",
      "execution_count": null,
      "metadata": {
        "colab": {
          "base_uri": "https://localhost:8080/",
          "height": 368
        },
        "id": "644MEs8vSgAY",
        "outputId": "7a2ac45b-2533-4d71-bd44-d1e25faaf5de"
      },
      "outputs": [],
      "source": [
        "sns.lmplot(x='52', y='53', hue='Type', data=df_test, fit_reg=False, legend=False)\n",
        "plt.legend(title='target', loc='upper left', labels=['normal', 'bearing noise', 'unknown noise'])\n",
        "plt.show()"
      ]
    },
    {
      "cell_type": "markdown",
      "metadata": {
        "id": "xZX94sm6SgAY"
      },
      "source": [
        "## Auto-sklearn (訓練集)預測結果"
      ]
    },
    {
      "cell_type": "code",
      "execution_count": null,
      "metadata": {
        "colab": {
          "base_uri": "https://localhost:8080/",
          "height": 368
        },
        "id": "CN4EFBY5SgAZ",
        "outputId": "063e415b-dee4-4f67-810d-e7e66c6874dc"
      },
      "outputs": [],
      "source": [
        "sns.lmplot(x='52', y='53', data=df_test, hue=\"Predict\", fit_reg=False, legend=False)\n",
        "plt.legend(title='target', loc='upper left', labels=['normal', 'bearing noise', 'unknown noise'])\n",
        "plt.show()"
      ]
    },
    {
      "cell_type": "markdown",
      "metadata": {
        "id": "gYVZ0j9gmqV0"
      },
      "source": [
        "## 查看每個模型的權重\n",
        "我們可以使用模型提供的方法查看最終訓練結果，並查看 k 個 Ensemble 模型的訓練結果以及每個模型的權重。"
      ]
    },
    {
      "cell_type": "code",
      "execution_count": null,
      "metadata": {
        "colab": {
          "base_uri": "https://localhost:8080/",
          "height": 727
        },
        "id": "l6DMaJwtmqmO",
        "outputId": "29d0086b-92ea-4b4b-d823-a663e4a992f0"
      },
      "outputs": [],
      "source": [
        "automlclassifierV2.leaderboard(detailed = True, ensemble_only=True)"
      ]
    },
    {
      "cell_type": "markdown",
      "metadata": {
        "id": "HTZWPJ4jV8VK"
      },
      "source": [
        "## 輸出模型\n",
        "如果想將 AutoML 的模型儲存起來，可以透過 `joblib` 將模型打包匯出。"
      ]
    },
    {
      "cell_type": "code",
      "execution_count": null,
      "metadata": {},
      "outputs": [],
      "source": [
        "from joblib import dump, load"
      ]
    },
    {
      "cell_type": "code",
      "execution_count": null,
      "metadata": {
        "colab": {
          "base_uri": "https://localhost:8080/"
        },
        "id": "Ac-X1Y3nUywQ",
        "outputId": "ccde6d74-681d-4e44-cdc5-5139b22a38e1"
      },
      "outputs": [],
      "source": [
        "# 匯出模型\n",
        "dump(automlclassifierV2, 'model_ud_axial.joblib')"
      ]
    },
    {
      "cell_type": "code",
      "execution_count": null,
      "metadata": {
        "id": "tjxObE7lVzTD"
      },
      "outputs": [],
      "source": [
        "# 匯入模型\n",
        "clf = load('model_right.joblib')"
      ]
    },
    {
      "cell_type": "code",
      "execution_count": null,
      "metadata": {
        "colab": {
          "base_uri": "https://localhost:8080/"
        },
        "id": "iPeQTt4IWHvX",
        "outputId": "fb54883b-e082-4d2a-8975-0572c7a4fb92"
      },
      "outputs": [],
      "source": [
        "# 模型預測測試\n",
        "clf.predict(X_test)"
      ]
    },
    {
      "cell_type": "markdown",
      "metadata": {
        "id": "FI0Px3DTb7IC"
      },
      "source": [
        "## 視覺化 AutoML 模型"
      ]
    },
    {
      "cell_type": "code",
      "execution_count": null,
      "metadata": {
        "colab": {
          "base_uri": "https://localhost:8080/"
        },
        "id": "wnobJNANb6QR",
        "outputId": "5a434e32-be79-4daf-ec64-30a3d84932d1"
      },
      "outputs": [],
      "source": [
        "#pip install pipelineprofiler"
      ]
    },
    {
      "cell_type": "code",
      "execution_count": null,
      "metadata": {
        "colab": {
          "base_uri": "https://localhost:8080/",
          "height": 1000
        },
        "id": "qt-7h4d0Un8k",
        "outputId": "f31a105d-1bd7-43d1-9477-7469b7350d7a"
      },
      "outputs": [],
      "source": [
        "import PipelineProfiler\n",
        "\n",
        "profiler_data= PipelineProfiler.import_autosklearn(automlclassifierV2)\n",
        "PipelineProfiler.plot_pipeline_matrix(profiler_data)"
      ]
    },
    {
      "cell_type": "code",
      "execution_count": null,
      "metadata": {
        "id": "9pxD2PqctjQf"
      },
      "outputs": [],
      "source": []
    }
  ],
  "metadata": {
    "colab": {
      "name": "Auto-sklearn(iris-classification).ipynb",
      "provenance": []
    },
    "kernelspec": {
      "display_name": "ml",
      "language": "python",
      "name": "python3"
    },
    "language_info": {
      "codemirror_mode": {
        "name": "ipython",
        "version": 3
      },
      "file_extension": ".py",
      "mimetype": "text/x-python",
      "name": "python",
      "nbconvert_exporter": "python",
      "pygments_lexer": "ipython3",
      "version": "3.12.2"
    }
  },
  "nbformat": 4,
  "nbformat_minor": 0
}
